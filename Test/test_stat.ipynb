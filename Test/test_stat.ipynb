{
 "cells": [
  {
   "cell_type": "code",
   "execution_count": 1,
   "metadata": {},
   "outputs": [
    {
     "name": "stdout",
     "output_type": "stream",
     "text": [
      "Flesch-Kincaid Grade Level: 6.7\n",
      "Coleman-Liau Index: 6.37\n",
      "Automated Readability Index: 6.3\n"
     ]
    }
   ],
   "source": [
    "import textstat\n",
    "\n",
    "def calculate_readability(text):\n",
    "    # Flesch-Kincaid Grade Level\n",
    "    flesch_grade = textstat.flesch_kincaid_grade(text)\n",
    "\n",
    "    # Coleman-Liau Index\n",
    "    coleman_liau_index = textstat.coleman_liau_index(text)\n",
    "\n",
    "    # Automated Readability Index\n",
    "    automated_readability_index = textstat.automated_readability_index(text)\n",
    "\n",
    "    return flesch_grade, coleman_liau_index, automated_readability_index\n",
    "\n",
    "# Example text\n",
    "summary_text = '''In the first 2 weeks or so, you are not actually pregnant. Your body is preparing for ovulation (releasing an egg from one of your ovaries) as usual. The most reliable way of finding out if you're pregnant is to take a pregnancy test.'''\n",
    "\n",
    "\n",
    "# Calculate readability metrics\n",
    "flesch_grade, coleman_liau_index, automated_readability_index = calculate_readability(summary_text)\n",
    "\n",
    "# Print results\n",
    "print(\"Flesch-Kincaid Grade Level:\", flesch_grade)\n",
    "print(\"Coleman-Liau Index:\", coleman_liau_index)\n",
    "print(\"Automated Readability Index:\", automated_readability_index)"
   ]
  }
 ],
 "metadata": {
  "kernelspec": {
   "display_name": "Python 3",
   "language": "python",
   "name": "python3"
  },
  "language_info": {
   "codemirror_mode": {
    "name": "ipython",
    "version": 3
   },
   "file_extension": ".py",
   "mimetype": "text/x-python",
   "name": "python",
   "nbconvert_exporter": "python",
   "pygments_lexer": "ipython3",
   "version": "3.12.2"
  }
 },
 "nbformat": 4,
 "nbformat_minor": 2
}
